{
 "cells": [
  {
   "cell_type": "code",
   "execution_count": 38,
   "id": "385bbec5",
   "metadata": {},
   "outputs": [],
   "source": [
    "import pandas as pd"
   ]
  },
  {
   "cell_type": "code",
   "execution_count": 39,
   "id": "a9a628cc",
   "metadata": {},
   "outputs": [],
   "source": [
    "main = pd.read_csv('XAUUSD_30m.csv')"
   ]
  },
  {
   "cell_type": "code",
   "execution_count": 40,
   "id": "44a59973",
   "metadata": {},
   "outputs": [],
   "source": [
    "main.drop(columns=\"tick_volume\", inplace=True)\n"
   ]
  },
  {
   "cell_type": "code",
   "execution_count": 41,
   "id": "a4ebb474",
   "metadata": {},
   "outputs": [
    {
     "data": {
      "text/html": [
       "<div>\n",
       "<style scoped>\n",
       "    .dataframe tbody tr th:only-of-type {\n",
       "        vertical-align: middle;\n",
       "    }\n",
       "\n",
       "    .dataframe tbody tr th {\n",
       "        vertical-align: top;\n",
       "    }\n",
       "\n",
       "    .dataframe thead th {\n",
       "        text-align: right;\n",
       "    }\n",
       "</style>\n",
       "<table border=\"1\" class=\"dataframe\">\n",
       "  <thead>\n",
       "    <tr style=\"text-align: right;\">\n",
       "      <th></th>\n",
       "      <th>time</th>\n",
       "      <th>open</th>\n",
       "      <th>high</th>\n",
       "      <th>low</th>\n",
       "      <th>close</th>\n",
       "    </tr>\n",
       "  </thead>\n",
       "  <tbody>\n",
       "    <tr>\n",
       "      <th>0</th>\n",
       "      <td>1/2/2018 1:00</td>\n",
       "      <td>1302.96</td>\n",
       "      <td>1306.30</td>\n",
       "      <td>1302.26</td>\n",
       "      <td>1306.23</td>\n",
       "    </tr>\n",
       "    <tr>\n",
       "      <th>1</th>\n",
       "      <td>1/2/2018 1:30</td>\n",
       "      <td>1306.22</td>\n",
       "      <td>1307.68</td>\n",
       "      <td>1306.14</td>\n",
       "      <td>1306.79</td>\n",
       "    </tr>\n",
       "    <tr>\n",
       "      <th>2</th>\n",
       "      <td>1/2/2018 2:00</td>\n",
       "      <td>1306.79</td>\n",
       "      <td>1306.88</td>\n",
       "      <td>1305.27</td>\n",
       "      <td>1305.90</td>\n",
       "    </tr>\n",
       "    <tr>\n",
       "      <th>3</th>\n",
       "      <td>1/2/2018 2:30</td>\n",
       "      <td>1305.91</td>\n",
       "      <td>1307.30</td>\n",
       "      <td>1305.89</td>\n",
       "      <td>1306.34</td>\n",
       "    </tr>\n",
       "    <tr>\n",
       "      <th>4</th>\n",
       "      <td>1/2/2018 3:00</td>\n",
       "      <td>1306.33</td>\n",
       "      <td>1306.46</td>\n",
       "      <td>1304.23</td>\n",
       "      <td>1306.26</td>\n",
       "    </tr>\n",
       "  </tbody>\n",
       "</table>\n",
       "</div>"
      ],
      "text/plain": [
       "            time     open     high      low    close\n",
       "0  1/2/2018 1:00  1302.96  1306.30  1302.26  1306.23\n",
       "1  1/2/2018 1:30  1306.22  1307.68  1306.14  1306.79\n",
       "2  1/2/2018 2:00  1306.79  1306.88  1305.27  1305.90\n",
       "3  1/2/2018 2:30  1305.91  1307.30  1305.89  1306.34\n",
       "4  1/2/2018 3:00  1306.33  1306.46  1304.23  1306.26"
      ]
     },
     "execution_count": 41,
     "metadata": {},
     "output_type": "execute_result"
    }
   ],
   "source": [
    "main.head()"
   ]
  },
  {
   "cell_type": "code",
   "execution_count": 42,
   "id": "70120d2c",
   "metadata": {},
   "outputs": [],
   "source": [
    "import pandas as pd\n",
    "from sklearn.cluster import KMeans\n",
    "import numpy as np\n",
    "\n",
    "# Sample DataFrame creation (this should be your actual data)\n",
    "\n",
    "df = main.copy()\n",
    "\n",
    "# Extracting closing prices\n",
    "closing_prices = df['close'].values.reshape(-1, 1)\n",
    "\n",
    "# Perform KMeans clustering (for example, 3 clusters)\n",
    "kmeans = KMeans(n_clusters=50, random_state=42)\n",
    "df['cluster'] = kmeans.fit_predict(closing_prices)\n",
    "\n",
    "# Assigning weight based on cluster size\n",
    "cluster_sizes = df['cluster'].value_counts().to_dict()\n",
    "\n",
    "# Create a new dataset with price level ranges and weights\n",
    "price_level_weight = []\n",
    "\n",
    "for cluster_id in df['cluster'].unique():\n",
    "    cluster_prices = df[df['cluster'] == cluster_id]['close']\n",
    "    min_price = cluster_prices.min()\n",
    "    max_price = cluster_prices.max()\n",
    "    \n",
    "    # Assign weight as the size of the cluster\n",
    "    weight = cluster_sizes[cluster_id]\n",
    "    \n",
    "    # Add to the new dataset\n",
    "    price_level_weight.append([f\"{min_price:.2f}-{max_price:.2f}\", weight])\n",
    "\n",
    "# Creating a new DataFrame for price levels and weights\n",
    "price_level_df_kmeans = pd.DataFrame(price_level_weight, columns=['Price Level', 'Weight'])\n"
   ]
  },
  {
   "cell_type": "code",
   "execution_count": 43,
   "id": "fccbaf0d",
   "metadata": {},
   "outputs": [
    {
     "data": {
      "text/plain": [
       "Index(['Price Level', 'Weight'], dtype='object')"
      ]
     },
     "execution_count": 43,
     "metadata": {},
     "output_type": "execute_result"
    }
   ],
   "source": [
    "price_level_df_kmeans.columns"
   ]
  },
  {
   "cell_type": "code",
   "execution_count": 44,
   "id": "f4028419",
   "metadata": {},
   "outputs": [
    {
     "data": {
      "text/plain": [
       "(50, 2)"
      ]
     },
     "execution_count": 44,
     "metadata": {},
     "output_type": "execute_result"
    }
   ],
   "source": [
    "price_level_df_kmeans.shape"
   ]
  },
  {
   "cell_type": "code",
   "execution_count": 45,
   "id": "ab8915d8",
   "metadata": {},
   "outputs": [],
   "source": [
    "price_level_df_sorted_by_weight = price_level_df_kmeans.sort_values(by='Weight', ascending=False)\n",
    "# Sort by Price Level\n",
    "price_level_df_sorted_by_price = price_level_df_kmeans.sort_values(by='Price Level')"
   ]
  },
  {
   "cell_type": "code",
   "execution_count": 46,
   "id": "4c489eda",
   "metadata": {},
   "outputs": [
    {
     "data": {
      "text/html": [
       "<div>\n",
       "<style scoped>\n",
       "    .dataframe tbody tr th:only-of-type {\n",
       "        vertical-align: middle;\n",
       "    }\n",
       "\n",
       "    .dataframe tbody tr th {\n",
       "        vertical-align: top;\n",
       "    }\n",
       "\n",
       "    .dataframe thead th {\n",
       "        text-align: right;\n",
       "    }\n",
       "</style>\n",
       "<table border=\"1\" class=\"dataframe\">\n",
       "  <thead>\n",
       "    <tr style=\"text-align: right;\">\n",
       "      <th></th>\n",
       "      <th>Price Level</th>\n",
       "      <th>Weight</th>\n",
       "    </tr>\n",
       "  </thead>\n",
       "  <tbody>\n",
       "    <tr>\n",
       "      <th>45</th>\n",
       "      <td>2969.76-3065.67</td>\n",
       "      <td>619</td>\n",
       "    </tr>\n",
       "    <tr>\n",
       "      <th>46</th>\n",
       "      <td>3066.31-3171.47</td>\n",
       "      <td>310</td>\n",
       "    </tr>\n",
       "    <tr>\n",
       "      <th>47</th>\n",
       "      <td>3173.23-3274.55</td>\n",
       "      <td>270</td>\n",
       "    </tr>\n",
       "    <tr>\n",
       "      <th>48</th>\n",
       "      <td>3274.83-3359.40</td>\n",
       "      <td>469</td>\n",
       "    </tr>\n",
       "    <tr>\n",
       "      <th>49</th>\n",
       "      <td>3360.35-3494.28</td>\n",
       "      <td>191</td>\n",
       "    </tr>\n",
       "  </tbody>\n",
       "</table>\n",
       "</div>"
      ],
      "text/plain": [
       "        Price Level  Weight\n",
       "45  2969.76-3065.67     619\n",
       "46  3066.31-3171.47     310\n",
       "47  3173.23-3274.55     270\n",
       "48  3274.83-3359.40     469\n",
       "49  3360.35-3494.28     191"
      ]
     },
     "execution_count": 46,
     "metadata": {},
     "output_type": "execute_result"
    }
   ],
   "source": [
    "price_level_df_kmeans.tail()"
   ]
  },
  {
   "cell_type": "code",
   "execution_count": 53,
   "id": "e28eed60",
   "metadata": {},
   "outputs": [
    {
     "data": {
      "text/html": [
       "<div>\n",
       "<style scoped>\n",
       "    .dataframe tbody tr th:only-of-type {\n",
       "        vertical-align: middle;\n",
       "    }\n",
       "\n",
       "    .dataframe tbody tr th {\n",
       "        vertical-align: top;\n",
       "    }\n",
       "\n",
       "    .dataframe thead th {\n",
       "        text-align: right;\n",
       "    }\n",
       "</style>\n",
       "<table border=\"1\" class=\"dataframe\">\n",
       "  <thead>\n",
       "    <tr style=\"text-align: right;\">\n",
       "      <th></th>\n",
       "      <th>Price Level</th>\n",
       "      <th>Weight</th>\n",
       "    </tr>\n",
       "  </thead>\n",
       "  <tbody>\n",
       "    <tr>\n",
       "      <th>0</th>\n",
       "      <td>1305.38-1339.24</td>\n",
       "      <td>2569</td>\n",
       "    </tr>\n",
       "    <tr>\n",
       "      <th>1</th>\n",
       "      <td>1339.33-1345.06</td>\n",
       "      <td>311</td>\n",
       "    </tr>\n",
       "    <tr>\n",
       "      <th>2</th>\n",
       "      <td>1349.50-1349.95</td>\n",
       "      <td>14</td>\n",
       "    </tr>\n",
       "    <tr>\n",
       "      <th>3</th>\n",
       "      <td>1352.74-1353.01</td>\n",
       "      <td>14</td>\n",
       "    </tr>\n",
       "    <tr>\n",
       "      <th>4</th>\n",
       "      <td>1352.11-1352.69</td>\n",
       "      <td>19</td>\n",
       "    </tr>\n",
       "  </tbody>\n",
       "</table>\n",
       "</div>"
      ],
      "text/plain": [
       "       Price Level  Weight\n",
       "0  1305.38-1339.24    2569\n",
       "1  1339.33-1345.06     311\n",
       "2  1349.50-1349.95      14\n",
       "3  1352.74-1353.01      14\n",
       "4  1352.11-1352.69      19"
      ]
     },
     "execution_count": 53,
     "metadata": {},
     "output_type": "execute_result"
    }
   ],
   "source": [
    "from sklearn.cluster import DBSCAN\n",
    "import pandas as pd\n",
    "\n",
    "# Assuming 'main' is your original DataFrame containing the 'close' column as the closing prices.\n",
    "\n",
    "# Step 1: Identify the turning prices (local maxima and minima)\n",
    "turning_prices = []\n",
    "\n",
    "# Loop through the closing prices to find local maxima and minima\n",
    "for i in range(1, len(main) - 1):  # Avoid first and last as they can't be turning points\n",
    "    prev_close = main['close'].iloc[i - 1]\n",
    "    current_close = main['close'].iloc[i]\n",
    "    next_close = main['close'].iloc[i + 1]\n",
    "\n",
    "    if (prev_close < current_close > next_close):  # Local maximum\n",
    "        turning_prices.append(current_close)\n",
    "    elif (prev_close > current_close < next_close):  # Local minimum\n",
    "        turning_prices.append(current_close)\n",
    "\n",
    "# Convert turning prices to a DataFrame\n",
    "turning_prices_df = pd.DataFrame(turning_prices, columns=['turning_price'])\n",
    "\n",
    "# Step 2: Apply DBSCAN to turning prices\n",
    "turning_prices_values = turning_prices_df['turning_price'].values.reshape(-1, 1)\n",
    "\n",
    "# Apply DBSCAN to cluster the turning prices\n",
    "dbscan = DBSCAN(eps=0.1, min_samples=5)  # Adjust parameters as needed\n",
    "turning_prices_df['dbscan_cluster'] = dbscan.fit_predict(turning_prices_values)\n",
    "\n",
    "# Step 3: Create a new dataframe with price levels and their corresponding weights\n",
    "price_level_weight = []\n",
    "\n",
    "# Iterate over each cluster label and calculate price levels and count the number of points in each cluster\n",
    "for cluster_id in turning_prices_df['dbscan_cluster'].unique():\n",
    "    if cluster_id == -1:\n",
    "        continue  # Skip noise points\n",
    "\n",
    "    # Filter data points in the current cluster\n",
    "    cluster_data = turning_prices_df[turning_prices_df['dbscan_cluster'] == cluster_id]\n",
    "\n",
    "    # Calculate the price range (min and max) for the cluster\n",
    "    min_price = cluster_data['turning_price'].min()\n",
    "    max_price = cluster_data['turning_price'].max()\n",
    "\n",
    "    # The weight will be the number of points in this cluster\n",
    "    weight = len(cluster_data)\n",
    "\n",
    "    # Add to the new price level dataset\n",
    "    price_level_weight.append([f\"{min_price:.2f}-{max_price:.2f}\", weight])\n",
    "\n",
    "# Create the final dataframe with price levels and weights\n",
    "price_level_dbscan = pd.DataFrame(price_level_weight, columns=['Price Level', 'Weight'])\n",
    "\n",
    "# Display the resulting DataFrame\n",
    "price_level_dbscan.head()\n"
   ]
  },
  {
   "cell_type": "code",
   "execution_count": 54,
   "id": "531ccc3f",
   "metadata": {},
   "outputs": [],
   "source": [
    "price_level_df_sorted_by_weight = price_level_dbscan.sort_values(by='Weight', ascending=False)\n",
    "# Sort by Price Level\n",
    "price_level_df_sorted_by_price = price_level_dbscan.sort_values(by='Price Level')"
   ]
  },
  {
   "cell_type": "code",
   "execution_count": 55,
   "id": "07d65333",
   "metadata": {},
   "outputs": [
    {
     "data": {
      "text/html": [
       "<div>\n",
       "<style scoped>\n",
       "    .dataframe tbody tr th:only-of-type {\n",
       "        vertical-align: middle;\n",
       "    }\n",
       "\n",
       "    .dataframe tbody tr th {\n",
       "        vertical-align: top;\n",
       "    }\n",
       "\n",
       "    .dataframe thead th {\n",
       "        text-align: right;\n",
       "    }\n",
       "</style>\n",
       "<table border=\"1\" class=\"dataframe\">\n",
       "  <thead>\n",
       "    <tr style=\"text-align: right;\">\n",
       "      <th></th>\n",
       "      <th>Price Level</th>\n",
       "      <th>Weight</th>\n",
       "    </tr>\n",
       "  </thead>\n",
       "  <tbody>\n",
       "    <tr>\n",
       "      <th>839</th>\n",
       "      <td>2928.34-2928.63</td>\n",
       "      <td>7</td>\n",
       "    </tr>\n",
       "    <tr>\n",
       "      <th>842</th>\n",
       "      <td>2933.30-2933.60</td>\n",
       "      <td>7</td>\n",
       "    </tr>\n",
       "    <tr>\n",
       "      <th>843</th>\n",
       "      <td>2941.64-2941.82</td>\n",
       "      <td>5</td>\n",
       "    </tr>\n",
       "    <tr>\n",
       "      <th>846</th>\n",
       "      <td>3032.77-3032.90</td>\n",
       "      <td>5</td>\n",
       "    </tr>\n",
       "    <tr>\n",
       "      <th>847</th>\n",
       "      <td>3329.92-3330.05</td>\n",
       "      <td>5</td>\n",
       "    </tr>\n",
       "  </tbody>\n",
       "</table>\n",
       "</div>"
      ],
      "text/plain": [
       "         Price Level  Weight\n",
       "839  2928.34-2928.63       7\n",
       "842  2933.30-2933.60       7\n",
       "843  2941.64-2941.82       5\n",
       "846  3032.77-3032.90       5\n",
       "847  3329.92-3330.05       5"
      ]
     },
     "execution_count": 55,
     "metadata": {},
     "output_type": "execute_result"
    }
   ],
   "source": [
    "price_level_df_sorted_by_price.tail()"
   ]
  },
  {
   "cell_type": "code",
   "execution_count": 56,
   "id": "916b8635",
   "metadata": {},
   "outputs": [
    {
     "data": {
      "text/html": [
       "<div>\n",
       "<style scoped>\n",
       "    .dataframe tbody tr th:only-of-type {\n",
       "        vertical-align: middle;\n",
       "    }\n",
       "\n",
       "    .dataframe tbody tr th {\n",
       "        vertical-align: top;\n",
       "    }\n",
       "\n",
       "    .dataframe thead th {\n",
       "        text-align: right;\n",
       "    }\n",
       "</style>\n",
       "<table border=\"1\" class=\"dataframe\">\n",
       "  <thead>\n",
       "    <tr style=\"text-align: right;\">\n",
       "      <th></th>\n",
       "      <th>Price Level</th>\n",
       "      <th>Weight</th>\n",
       "    </tr>\n",
       "  </thead>\n",
       "  <tbody>\n",
       "    <tr>\n",
       "      <th>467</th>\n",
       "      <td>1767.74-1820.28</td>\n",
       "      <td>5058</td>\n",
       "    </tr>\n",
       "    <tr>\n",
       "      <th>480</th>\n",
       "      <td>1898.22-1940.90</td>\n",
       "      <td>3261</td>\n",
       "    </tr>\n",
       "    <tr>\n",
       "      <th>0</th>\n",
       "      <td>1305.38-1339.24</td>\n",
       "      <td>2569</td>\n",
       "    </tr>\n",
       "    <tr>\n",
       "      <th>15</th>\n",
       "      <td>1277.54-1299.96</td>\n",
       "      <td>1863</td>\n",
       "    </tr>\n",
       "    <tr>\n",
       "      <th>470</th>\n",
       "      <td>1845.78-1872.34</td>\n",
       "      <td>1808</td>\n",
       "    </tr>\n",
       "  </tbody>\n",
       "</table>\n",
       "</div>"
      ],
      "text/plain": [
       "         Price Level  Weight\n",
       "467  1767.74-1820.28    5058\n",
       "480  1898.22-1940.90    3261\n",
       "0    1305.38-1339.24    2569\n",
       "15   1277.54-1299.96    1863\n",
       "470  1845.78-1872.34    1808"
      ]
     },
     "execution_count": 56,
     "metadata": {},
     "output_type": "execute_result"
    }
   ],
   "source": [
    "price_level_df_sorted_by_weight.head()"
   ]
  }
 ],
 "metadata": {
  "kernelspec": {
   "display_name": "Python 3",
   "language": "python",
   "name": "python3"
  },
  "language_info": {
   "codemirror_mode": {
    "name": "ipython",
    "version": 3
   },
   "file_extension": ".py",
   "mimetype": "text/x-python",
   "name": "python",
   "nbconvert_exporter": "python",
   "pygments_lexer": "ipython3",
   "version": "3.11.4"
  }
 },
 "nbformat": 4,
 "nbformat_minor": 5
}
