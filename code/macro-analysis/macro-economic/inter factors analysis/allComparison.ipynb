{
 "cells": [
  {
   "cell_type": "code",
   "execution_count": 6,
   "id": "03171d73",
   "metadata": {},
   "outputs": [],
   "source": [
    "import pandas as pd\n",
    "\n",
    "# Load your CPI.csv\n",
    "CPI = pd.read_csv('CPI.csv')\n",
    "PCE = pd.read_csv('PCE.csv')\n",
    "GDP = pd.read_csv('GDP.csv')\n",
    "NFP = pd.read_csv('NFP.csv')\n",
    "PCE = pd.read_csv('PCE.csv')\n",
    "PPI = pd.read_csv('PPI.csv')\n",
    "\n",
    "\n",
    "# Remove the parentheses and text inside them, keep only the date part\n",
    "CPI['Release Date'] = CPI['Release Date'].str.replace(r'\\s*\\(.*\\)', '', regex=True)\n",
    "PCE['Release Date'] = PCE['Release Date'].str.replace(r'\\s*\\(.*\\)', '', regex=True)\n",
    "GDP['Release Date'] = GDP['Release Date'].str.replace(r'\\s*\\(.*\\)', '', regex=True)\n",
    "NFP['Release Date'] = NFP['Release Date'].str.replace(r'\\s*\\(.*\\)', '', regex=True)\n",
    "PCE['Release Date'] = NFP['Release Date'].str.replace(r'\\s*\\(.*\\)', '', regex=True)\n",
    "PPI['Release Date'] = PPI['Release Date'].str.replace(r'\\s*\\(.*\\)', '', regex=True)\n",
    "\n"
   ]
  }
 ],
 "metadata": {
  "kernelspec": {
   "display_name": "Python 3",
   "language": "python",
   "name": "python3"
  },
  "language_info": {
   "codemirror_mode": {
    "name": "ipython",
    "version": 3
   },
   "file_extension": ".py",
   "mimetype": "text/x-python",
   "name": "python",
   "nbconvert_exporter": "python",
   "pygments_lexer": "ipython3",
   "version": "3.11.9"
  }
 },
 "nbformat": 4,
 "nbformat_minor": 5
}
